{
 "cells": [
  {
   "cell_type": "code",
   "execution_count": 1,
   "metadata": {
    "tags": []
   },
   "outputs": [
    {
     "name": "stderr",
     "output_type": "stream",
     "text": [
      "itkImageF4 not loaded from module TubeTK because of exception:\n",
      " module 'itk.TubeTKPython' has no attribute 'itkImageF4'\n",
      "vectoritkImageF4 not loaded from module TubeTK because of exception:\n",
      " module 'itk.TubeTKPython' has no attribute 'vectoritkImageF4'\n"
     ]
    }
   ],
   "source": [
    "import os\n",
    "\n",
    "import itk\n",
    "from itk import TubeTK as tube\n",
    "\n",
    "from itkwidgets import view\n",
    "\n",
    "import numpy as np"
   ]
  },
  {
   "cell_type": "code",
   "execution_count": 2,
   "metadata": {
    "tags": []
   },
   "outputs": [],
   "source": [
    "InputBaseName = \"../Data/Rat17N_w2\"\n",
    "\n",
    "if not os.path.exists('../Data/Results'):\n",
    "    os.makedirs('../Data/Results')\n",
    "OutputBaseName = \"../Data/Results/Rat17N_w2-out\"\n",
    "\n",
    "InputFilename = InputBaseName+\".nrrd\"\n",
    "\n",
    "im = itk.imread(InputFilename, itk.F)"
   ]
  },
  {
   "cell_type": "code",
   "execution_count": 3,
   "metadata": {
    "scrolled": true,
    "tags": []
   },
   "outputs": [
    {
     "name": "stdout",
     "output_type": "stream",
     "text": [
      "Spacing: 1.0\n",
      "Intensity mean: 0.0022887557\n",
      "Intensity std dev: 0.048020486\n"
     ]
    }
   ],
   "source": [
    "imMath = tube.ImageMath.New(im)\n",
    "imMath.Blur(1.5)\n",
    "imBlur = imMath.GetOutput()\n",
    "\n",
    "\n",
    "spacing = imBlur.GetSpacing()[0]\n",
    "\n",
    "imArray = itk.GetArrayFromImage(imBlur)\n",
    "im_mean = np.mean(imArray)\n",
    "im_stddev = np.std(imArray)\n",
    "\n",
    "print(\"Spacing:\", spacing)\n",
    "print(\"Intensity mean:\", im_mean)\n",
    "print(\"Intensity std dev:\", im_stddev)"
   ]
  },
  {
   "cell_type": "code",
   "execution_count": 4,
   "metadata": {
    "tags": []
   },
   "outputs": [],
   "source": [
    "imArrayNorm = (imArray - im_mean)/(im_stddev*10)\n",
    "imArrayNorm = np.where(imArrayNorm>1, 1.0, imArrayNorm)\n",
    "imArrayNorm = np.where(imArrayNorm<-1, -1.0, imArrayNorm)\n",
    "im_min = imArrayNorm.min()\n",
    "im_max = imArrayNorm.max()\n",
    "imArrayNorm = (imArrayNorm - im_min) / (im_max - im_min) * 100\n",
    "imNorm = itk.GetImageFromArray(imArrayNorm)"
   ]
  },
  {
   "cell_type": "code",
   "execution_count": 5,
   "metadata": {
    "tags": []
   },
   "outputs": [],
   "source": [
    "itk.imwrite(imNorm, OutputBaseName+\"-Normalized.mha\")"
   ]
  },
  {
   "cell_type": "code",
   "execution_count": 6,
   "metadata": {
    "tags": []
   },
   "outputs": [
    {
     "data": {
      "text/html": [
       "<div />"
      ],
      "text/plain": [
       "<IPython.core.display.HTML object>"
      ]
     },
     "metadata": {},
     "output_type": "display_data"
    },
    {
     "data": {
      "application/javascript": [
       "window.connectPlugin && window.connectPlugin(\"75e9c5cd-6a6f-4505-8efe-0768fb46b7d3\")"
      ],
      "text/plain": [
       "<IPython.core.display.Javascript object>"
      ]
     },
     "metadata": {},
     "output_type": "display_data"
    },
    {
     "data": {
      "text/html": [
       "<div id=\"211b5176-02b7-429c-9f81-b3bb56a7cfe0\"></div>"
      ],
      "text/plain": [
       "<IPython.core.display.HTML object>"
      ]
     },
     "metadata": {},
     "output_type": "display_data"
    },
    {
     "data": {
      "text/plain": [
       "<itkwidgets.viewer.Viewer at 0x1d48796d6d0>"
      ]
     },
     "execution_count": 6,
     "metadata": {},
     "output_type": "execute_result"
    }
   ],
   "source": [
    "view(imNorm)"
   ]
  },
  {
   "cell_type": "code",
   "execution_count": 7,
   "metadata": {
    "scrolled": true,
    "tags": []
   },
   "outputs": [
    {
     "name": "stdout",
     "output_type": "stream",
     "text": [
      "[[222.  84.  18.]\n",
      " [210. 157.  19.]\n",
      " [283. 177.  23.]\n",
      " [ 21. 101.  26.]\n",
      " [325. 110.  26.]\n",
      " [303. 180.  26.]\n",
      " [ 30. 139.  36.]\n",
      " [323. 186.  37.]\n",
      " [205.  71.  38.]\n",
      " [343. 191.  42.]\n",
      " [322. 211.  43.]\n",
      " [345. 105.  44.]\n",
      " [ 27. 105.  46.]\n",
      " [241. 184.  47.]\n",
      " [363. 196.  53.]\n",
      " [ 28. 139.  56.]\n",
      " [197.  63.  58.]\n",
      " [351.  98.  64.]\n",
      " [ 38. 111.  66.]\n",
      " [431. 102.  68.]\n",
      " [ 22. 136.  76.]\n",
      " [189.  54.  78.]\n",
      " [ 19. 156.  86.]\n",
      " [341. 133.  91.]\n",
      " [409. 194.  92.]]\n"
     ]
    }
   ],
   "source": [
    "numSeeds = 25\n",
    "seedCoverage = 20\n",
    "seedCoord = np.zeros([numSeeds,3])\n",
    "for i in range(numSeeds):\n",
    "    seedCoord[i] = np.unravel_index(np.argmax(imArrayNorm, axis=None), imArrayNorm.shape)\n",
    "    indx = [int(seedCoord[i][0]),int(seedCoord[i][1]),int(seedCoord[i][2])]\n",
    "    minX = max(indx[0]-seedCoverage,0)\n",
    "    maxX = min(indx[0]+seedCoverage,imArrayNorm.shape[0])\n",
    "    minY = max(indx[1]-seedCoverage,0)\n",
    "    maxY = min(indx[1]+seedCoverage,imArrayNorm.shape[1])\n",
    "    minZ = max(indx[2]-seedCoverage,0)\n",
    "    maxZ = min(indx[2]+seedCoverage,imArrayNorm.shape[2])\n",
    "    imArrayNorm[minX:maxX,minY:maxY,minZ:maxZ]=im_min\n",
    "    indx.reverse()\n",
    "    seedCoord[:][i] = im.TransformIndexToPhysicalPoint(indx)\n",
    "print(seedCoord)"
   ]
  },
  {
   "cell_type": "code",
   "execution_count": 8,
   "metadata": {
    "tags": []
   },
   "outputs": [
    {
     "name": "stdout",
     "output_type": "stream",
     "text": [
      "**** Processing seed 0 : [222.  84.  18.]\n",
      "**** Processing seed 1 : [210. 157.  19.]\n",
      "**** Processing seed 2 : [283. 177.  23.]\n",
      "**** Processing seed 3 : [ 21. 101.  26.]\n",
      "**** Processing seed 4 : [325. 110.  26.]\n",
      "**** Processing seed 5 : [303. 180.  26.]\n",
      "**** Processing seed 6 : [ 30. 139.  36.]\n",
      "**** Processing seed 7 : [323. 186.  37.]\n",
      "**** Processing seed 8 : [205.  71.  38.]\n",
      "**** Processing seed 9 : [343. 191.  42.]\n",
      "**** Processing seed 10 : [322. 211.  43.]\n",
      "**** Processing seed 11 : [345. 105.  44.]\n",
      "**** Processing seed 12 : [ 27. 105.  46.]\n",
      "**** Processing seed 13 : [241. 184.  47.]\n",
      "**** Processing seed 14 : [363. 196.  53.]\n",
      "**** Processing seed 15 : [ 28. 139.  56.]\n",
      "**** Processing seed 16 : [197.  63.  58.]\n",
      "**** Processing seed 17 : [351.  98.  64.]\n",
      "**** Processing seed 18 : [ 38. 111.  66.]\n",
      "**** Processing seed 19 : [431. 102.  68.]\n",
      "**** Processing seed 20 : [ 22. 136.  76.]\n",
      "**** Processing seed 21 : [189.  54.  78.]\n",
      "**** Processing seed 22 : [ 19. 156.  86.]\n",
      "**** Processing seed 23 : [341. 133.  91.]\n",
      "**** Processing seed 24 : [409. 194.  92.]\n"
     ]
    }
   ],
   "source": [
    "# Manually extract a few vessels to form an image-specific training set\n",
    "vSeg = tube.SegmentTubes.New(Input=imNorm)\n",
    "vSeg.SetVerbose(True)\n",
    "vSeg.SetMinRoundness(0.1)\n",
    "vSeg.SetMinRidgeness(0.8)\n",
    "vSeg.SetMinCurvature(0.000001)  # This is the most influential variable - depends on intensity range of data\n",
    "vSeg.SetRadiusInObjectSpace( 1.5 )\n",
    "vSeg.SetMinLength(300)\n",
    "for i in range(numSeeds):\n",
    "    print(\"**** Processing seed \" + str(i) + \" : \" + str(seedCoord[i]))\n",
    "    vSeg.ExtractTubeInObjectSpace( seedCoord[i], i )\n",
    "    \n",
    "tubeMaskImage = vSeg.GetTubeMaskImage()"
   ]
  },
  {
   "cell_type": "code",
   "execution_count": 9,
   "metadata": {
    "tags": []
   },
   "outputs": [
    {
     "data": {
      "text/html": [
       "<div />"
      ],
      "text/plain": [
       "<IPython.core.display.HTML object>"
      ]
     },
     "metadata": {},
     "output_type": "display_data"
    },
    {
     "data": {
      "application/javascript": [
       "window.connectPlugin && window.connectPlugin(\"75e9c5cd-6a6f-4505-8efe-0768fb46b7d3\")"
      ],
      "text/plain": [
       "<IPython.core.display.Javascript object>"
      ]
     },
     "metadata": {},
     "output_type": "display_data"
    },
    {
     "data": {
      "text/html": [
       "<div id=\"c6cc7874-9dfb-44b6-8aca-89044f42ed99\"></div>"
      ],
      "text/plain": [
       "<IPython.core.display.HTML object>"
      ]
     },
     "metadata": {},
     "output_type": "display_data"
    },
    {
     "data": {
      "text/plain": [
       "<itkwidgets.viewer.Viewer at 0x1d498f18ad0>"
      ]
     },
     "execution_count": 9,
     "metadata": {},
     "output_type": "execute_result"
    }
   ],
   "source": [
    "view(tubeMaskImage)"
   ]
  },
  {
   "cell_type": "code",
   "execution_count": 10,
   "metadata": {
    "tags": []
   },
   "outputs": [],
   "source": [
    "itk.imwrite(tubeMaskImage, OutputBaseName+\"-VesselsInitial.mha\")"
   ]
  },
  {
   "cell_type": "code",
   "execution_count": 11,
   "metadata": {
    "tags": []
   },
   "outputs": [],
   "source": [
    "ImageType = itk.Image[itk.F,3]\n",
    "LabelMapType = itk.Image[itk.UC,3]\n",
    "\n",
    "trMask = tube.ComputeTrainingMask[ImageType,LabelMapType].New()\n",
    "trMask.SetInput( tubeMaskImage )\n",
    "trMask.SetGap( 5 )\n",
    "trMask.SetObjectWidth( 1 )\n",
    "trMask.SetNotObjectWidth( 1 )\n",
    "trMask.Update()\n",
    "fgMask = trMask.GetOutput()"
   ]
  },
  {
   "cell_type": "code",
   "execution_count": 12,
   "metadata": {
    "tags": []
   },
   "outputs": [],
   "source": [
    "itk.imwrite(fgMask, OutputBaseName+\"-VesselsInitialMask.mha\")"
   ]
  },
  {
   "cell_type": "code",
   "execution_count": 13,
   "metadata": {
    "tags": []
   },
   "outputs": [],
   "source": [
    "enhancer = tube.EnhanceTubesUsingDiscriminantAnalysis[ImageType,LabelMapType].New()\n",
    "enhancer.AddInput(im)\n",
    "enhancer.SetLabelMap(fgMask)\n",
    "enhancer.SetRidgeId(255)\n",
    "enhancer.SetBackgroundId(128)\n",
    "enhancer.SetUnknownId(0)\n",
    "enhancer.SetTrainClassifier(True)\n",
    "enhancer.SetUseIntensityOnly(True)\n",
    "enhancer.SetUseFeatureMath(True)\n",
    "enhancer.SetScales([1.5*spacing, 2.5*spacing, 5*spacing])\n",
    "enhancer.Update()\n",
    "enhancer.ClassifyImages()"
   ]
  },
  {
   "cell_type": "code",
   "execution_count": 14,
   "metadata": {
    "tags": []
   },
   "outputs": [],
   "source": [
    "imMath.SetInput(enhancer.GetClassProbabilityImage(0))\n",
    "imMath.Blur(0.5*spacing)\n",
    "prob0 = imMath.GetOutput()\n",
    "imMath.SetInput(enhancer.GetClassProbabilityImage(1))\n",
    "imMath.Blur(0.5*spacing)\n",
    "prob1 = imMath.GetOutput()"
   ]
  },
  {
   "cell_type": "code",
   "execution_count": 15,
   "metadata": {
    "tags": []
   },
   "outputs": [],
   "source": [
    "itk.imwrite(prob0, OutputBaseName+\"-Prob0.mha\")\n",
    "itk.imwrite(prob1, OutputBaseName+\"-Prob1.mha\")"
   ]
  },
  {
   "cell_type": "code",
   "execution_count": 16,
   "metadata": {
    "tags": []
   },
   "outputs": [],
   "source": [
    "imDiff = itk.SubtractImageFilter(Input1=prob0, Input2=prob1)\n",
    "imDiffArr = itk.GetArrayFromImage(imDiff)\n",
    "dMax = imDiffArr.max()\n",
    "imProbArr = imDiffArr / dMax\n",
    "imVess = itk.GetImageFromArray(imProbArr)\n",
    "imVess.CopyInformation(im)"
   ]
  },
  {
   "cell_type": "code",
   "execution_count": 17,
   "metadata": {
    "tags": []
   },
   "outputs": [
    {
     "data": {
      "text/html": [
       "<div />"
      ],
      "text/plain": [
       "<IPython.core.display.HTML object>"
      ]
     },
     "metadata": {},
     "output_type": "display_data"
    },
    {
     "data": {
      "application/javascript": [
       "window.connectPlugin && window.connectPlugin(\"75e9c5cd-6a6f-4505-8efe-0768fb46b7d3\")"
      ],
      "text/plain": [
       "<IPython.core.display.Javascript object>"
      ]
     },
     "metadata": {},
     "output_type": "display_data"
    },
    {
     "data": {
      "text/html": [
       "<div id=\"2cddb36e-e137-4195-bf7c-4778674286d2\"></div>"
      ],
      "text/plain": [
       "<IPython.core.display.HTML object>"
      ]
     },
     "metadata": {},
     "output_type": "display_data"
    },
    {
     "data": {
      "text/plain": [
       "<itkwidgets.viewer.Viewer at 0x1d49b0ec550>"
      ]
     },
     "execution_count": 17,
     "metadata": {},
     "output_type": "execute_result"
    }
   ],
   "source": [
    "view(imVess)"
   ]
  },
  {
   "cell_type": "code",
   "execution_count": 18,
   "metadata": {},
   "outputs": [],
   "source": [
    "itk.imwrite( imVess, OutputBaseName+\"-VesselsEnhanced.mha\", compression=True)"
   ]
  },
  {
   "cell_type": "code",
   "execution_count": 19,
   "metadata": {
    "tags": []
   },
   "outputs": [],
   "source": [
    "imMath = tube.ImageMath.New(imVess)\n",
    "imMath.MedianFilter(1)\n",
    "imMath.Threshold(0.000001, 1, 1, 0)\n",
    "imVessMask = imMath.GetOutputShort()\n",
    "\n",
    "ccSeg = tube.SegmentConnectedComponents.New(imVessMask)\n",
    "ccSeg.SetMinimumVolume(100)\n",
    "ccSeg.Update()\n",
    "imVessMask = ccSeg.GetOutput()\n",
    "\n",
    "itk.imwrite(imVessMask,OutputBaseName+\"-VesselSeedsInitialMask.mha\")\n",
    "imVessMask = itk.imread(OutputBaseName+\"-VesselSeedsInitialMask.mha\", itk.F)"
   ]
  },
  {
   "cell_type": "code",
   "execution_count": 20,
   "metadata": {
    "tags": []
   },
   "outputs": [],
   "source": [
    "imMath.SetInput(imVess)\n",
    "imMath.ReplaceValuesOutsideMaskRange(imVessMask,2,99999,0)\n",
    "imSeeds = imMath.GetOutput()\n",
    "itk.imwrite(imSeeds,OutputBaseName+\"-VesselSeeds.mha\")"
   ]
  },
  {
   "cell_type": "code",
   "execution_count": 21,
   "metadata": {
    "tags": []
   },
   "outputs": [],
   "source": [
    "imMath.SetInput(imVessMask)\n",
    "imMath.Threshold(0,1,1,0)\n",
    "imVessMaskInv = imMath.GetOutput()\n",
    "\n",
    "distFilter = itk.DanielssonDistanceMapImageFilter.New(imVessMaskInv)\n",
    "distFilter.Update()\n",
    "dist = distFilter.GetOutput()\n",
    "\n",
    "imMath.SetInput(dist)\n",
    "imMath.Blur(0.4)\n",
    "tmp = imMath.GetOutput()\n",
    "imMath.ReplaceValuesOutsideMaskRange(tmp, 0.1, 10, 0)\n",
    "imSeedsRadius = imMath.GetOutput()\n",
    "\n",
    "itk.imwrite(imSeedsRadius, OutputBaseName+\"-VesselSeedsRadius.mha\")"
   ]
  },
  {
   "cell_type": "code",
   "execution_count": 22,
   "metadata": {
    "tags": []
   },
   "outputs": [],
   "source": [
    "imMath.SetInput(im)\n",
    "imMath.ReplaceValuesOutsideMaskRange(imVessMask, 2, 99999, 0)\n",
    "imMath.Blur(spacing)\n",
    "imInput = imMath.GetOutput()\n",
    "\n",
    "itk.imwrite(imInput,OutputBaseName+\"-VesselInput.mha\")"
   ]
  },
  {
   "cell_type": "code",
   "execution_count": 47,
   "metadata": {
    "tags": []
   },
   "outputs": [],
   "source": [
    "numSeeds = 500\n",
    "\n",
    "vSeg = tube.SegmentTubes.New(Input=imInput)\n",
    "#vSeg.SetVerbose(True)\n",
    "vSeg.SetMinCurvature(0.0001)\n",
    "vSeg.SetMinRoundness(0.1)\n",
    "vSeg.SetMinRidgeness(0.1)\n",
    "vSeg.SetMinLevelness(0.001)\n",
    "vSeg.SetMinLength(500) # old = 300\n",
    "vSeg.SetRadiusInObjectSpace( spacing )\n",
    "vSeg.SetBorderInIndexSpace(3)\n",
    "vSeg.SetSeedMask( imSeeds )\n",
    "vSeg.SetSeedRadiusMask( imSeedsRadius )\n",
    "vSeg.SetOptimizeRadius(True)\n",
    "vSeg.SetSeedMaskMaximumNumberOfPoints(numSeeds)\n",
    "vSeg.SetUseSeedMaskAsProbabilities(True)\n",
    "vSeg.SetSeedExtractionMinimumProbability(0.1) # old = 0.75\n",
    "vSeg.ProcessSeeds()"
   ]
  },
  {
   "cell_type": "code",
   "execution_count": 48,
   "metadata": {
    "tags": []
   },
   "outputs": [],
   "source": [
    "tubeMaskImage = vSeg.GetTubeMaskImage()\n",
    "itk.imwrite(tubeMaskImage,OutputBaseName+\"-Vessels\"+str(numSeeds)+\".mha\")"
   ]
  },
  {
   "cell_type": "code",
   "execution_count": 49,
   "metadata": {
    "tags": []
   },
   "outputs": [
    {
     "data": {
      "text/html": [
       "\n",
       "                <img id=\"screenshot_imjoy_window_5b37ab46-fb77-4e24-97bc-8f2feecc64b1\" src=data:image/png;base64,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>\n",
       "                <script type=\"text/javascript\">\n",
       "                    var image = document.getElementById(\"screenshot_imjoy_window_5b37ab46-fb77-4e24-97bc-8f2feecc64b1\");\n",
       "                    image.src = \"data:image/png;base64,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\";\n",
       "                    var viewer = document.getElementById(\"imjoy_window_5b37ab46-fb77-4e24-97bc-8f2feecc64b1\");\n",
       "                    // Hide the static image if the Viewer is visible\n",
       "                    image.style.display = viewer ? \"none\" : \"block\";\n",
       "                </script>\n",
       "            "
      ],
      "text/plain": [
       "<IPython.core.display.HTML object>"
      ]
     },
     "metadata": {},
     "output_type": "display_data"
    },
    {
     "data": {
      "application/javascript": [
       "window.connectPlugin && window.connectPlugin(\"75e9c5cd-6a6f-4505-8efe-0768fb46b7d3\")"
      ],
      "text/plain": [
       "<IPython.core.display.Javascript object>"
      ]
     },
     "metadata": {},
     "output_type": "display_data"
    },
    {
     "data": {
      "text/html": [
       "<div id=\"6b85b6cf-0b05-4108-be97-f13f5ab0f8b5\"></div>"
      ],
      "text/plain": [
       "<IPython.core.display.HTML object>"
      ]
     },
     "metadata": {},
     "output_type": "display_data"
    },
    {
     "data": {
      "text/plain": [
       "<itkwidgets.viewer.Viewer at 0x1d49b0ce550>"
      ]
     },
     "execution_count": 49,
     "metadata": {},
     "output_type": "execute_result"
    }
   ],
   "source": [
    "view(tubeMaskImage)"
   ]
  },
  {
   "cell_type": "code",
   "execution_count": 50,
   "metadata": {
    "tags": []
   },
   "outputs": [],
   "source": [
    "SOWriter = itk.SpatialObjectWriter[3].New()\n",
    "SOWriter.SetInput(vSeg.GetTubeGroup())\n",
    "SOWriter.SetBinaryPoints(True)\n",
    "SOWriter.SetFileName(OutputBaseName+\"-Vessels\"+str(numSeeds)+\".tre\")\n",
    "SOWriter.Update()"
   ]
  },
  {
   "cell_type": "code",
   "execution_count": 51,
   "metadata": {
    "tags": []
   },
   "outputs": [],
   "source": [
    "# smooth tubes!\n",
    "TubeMath = tube.TubeMath[3, itk.F].New()\n",
    "TubeMath.SetInputTubeGroup(vSeg.GetTubeGroup())\n",
    "TubeMath.SetUseAllTubes()\n",
    "TubeMath.SmoothTube(4,\"SMOOTH_TUBE_USING_INDEX_GAUSSIAN\")\n",
    "TubeMath.SmoothTubeProperty(\"Radius\",2,\"SMOOTH_TUBE_USING_INDEX_GAUSSIAN\")\n",
    "tubes = TubeMath.GetOutputTubeGroup()"
   ]
  },
  {
   "cell_type": "code",
   "execution_count": 52,
   "metadata": {
    "tags": []
   },
   "outputs": [],
   "source": [
    "ConvSurface = tube.WriteTubesAsPolyData.New()\n",
    "ConvSurface.SetInput(tubes)\n",
    "ConvSurface.SetFileName(OutputBaseName+\"-Vessels\"+str(numSeeds)+\".vtp\")\n",
    "ConvSurface.Update()"
   ]
  },
  {
   "cell_type": "code",
   "execution_count": null,
   "metadata": {},
   "outputs": [],
   "source": []
  }
 ],
 "metadata": {
  "kernelspec": {
   "display_name": "Python 3 (ipykernel)",
   "language": "python",
   "name": "python3"
  },
  "language_info": {
   "codemirror_mode": {
    "name": "ipython",
    "version": 3
   },
   "file_extension": ".py",
   "mimetype": "text/x-python",
   "name": "python",
   "nbconvert_exporter": "python",
   "pygments_lexer": "ipython3",
   "version": "3.11.5"
  },
  "widgets": {
   "application/vnd.jupyter.widget-state+json": {
    "state": {},
    "version_major": 2,
    "version_minor": 0
   }
  }
 },
 "nbformat": 4,
 "nbformat_minor": 4
}
