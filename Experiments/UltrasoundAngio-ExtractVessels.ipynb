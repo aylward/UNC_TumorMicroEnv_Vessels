{
 "cells": [
  {
   "cell_type": "code",
   "execution_count": 1,
   "metadata": {},
   "outputs": [],
   "source": [
    "import os\n",
    "\n",
    "import itk\n",
    "from itk import TubeTK as tube\n",
    "\n",
    "from itkwidgets import view\n",
    "\n",
    "import numpy as np"
   ]
  },
  {
   "cell_type": "code",
   "execution_count": 2,
   "metadata": {},
   "outputs": [],
   "source": [
    "InputBaseName = \"../Data/SRdown4\"\n",
    "\n",
    "if not os.path.exists('../Data/Results'):\n",
    "    os.makedirs('../Data/Results')\n",
    "OutputBaseName = \"../Data/Results/SRdown4-out\"\n",
    "\n",
    "InputFilename = InputBaseName+\".nrrd\"\n",
    "\n",
    "im = itk.imread(InputFilename, itk.F)"
   ]
  },
  {
   "cell_type": "code",
   "execution_count": 3,
   "metadata": {
    "scrolled": true
   },
   "outputs": [
    {
     "name": "stdout",
     "output_type": "stream",
     "text": [
      "Spacing: 1.0\n",
      "Intensity range: 0.0 - 45.11833572387695\n"
     ]
    }
   ],
   "source": [
    "ImageType = itk.Image[itk.F, 3]\n",
    "\n",
    "spacing = im.GetSpacing()[0]\n",
    "\n",
    "imArray = itk.GetArrayFromImage(im)\n",
    "im_min = float(imArray.min())\n",
    "im_max = float(imArray.max())\n",
    "\n",
    "print(\"Spacing:\", spacing)\n",
    "print(\"Intensity range:\", im_min, \"-\", im_max)"
   ]
  },
  {
   "cell_type": "code",
   "execution_count": 4,
   "metadata": {},
   "outputs": [
    {
     "data": {
      "text/html": [
       "<div />"
      ],
      "text/plain": [
       "<IPython.core.display.HTML object>"
      ]
     },
     "metadata": {},
     "output_type": "display_data"
    },
    {
     "data": {
      "application/javascript": [
       "window.connectPlugin && window.connectPlugin(\"3cc4e193-61f2-4ae6-bc9f-37fb44f1f922\")"
      ],
      "text/plain": [
       "<IPython.core.display.Javascript object>"
      ]
     },
     "metadata": {},
     "output_type": "display_data"
    },
    {
     "data": {
      "text/html": [
       "<div id=\"9c3a9a96-ea34-4bcc-bf88-221cee43d8d6\"></div>"
      ],
      "text/plain": [
       "<IPython.core.display.HTML object>"
      ]
     },
     "metadata": {},
     "output_type": "display_data"
    },
    {
     "data": {
      "text/plain": [
       "<itkwidgets.viewer.Viewer at 0x1fe452f1730>"
      ]
     },
     "execution_count": 4,
     "metadata": {},
     "output_type": "execute_result"
    }
   ],
   "source": [
    "view(im)"
   ]
  },
  {
   "cell_type": "code",
   "execution_count": 5,
   "metadata": {
    "scrolled": true
   },
   "outputs": [
    {
     "name": "stderr",
     "output_type": "stream",
     "text": [
      "itkImageF4 not loaded from module TubeTK because of exception:\n",
      " module 'itk.TubeTKPython' has no attribute 'itkImageF4'\n",
      "vectoritkImageF4 not loaded from module TubeTK because of exception:\n",
      " module 'itk.TubeTKPython' has no attribute 'vectoritkImageF4'\n"
     ]
    }
   ],
   "source": [
    "imMath = tube.ImageMath.New(im)\n",
    "imMath.IntensityWindow(im_min, im_max, 0.0, 1.0)\n",
    "imMath.Blur(0.34*spacing)\n",
    "imBlur = imMath.GetOutput()\n",
    "imMath.Blur(1.35*spacing)\n",
    "imMath.AddImages(imBlur, -1, 1)\n",
    "imDoG = imMath.GetOutput()\n",
    "\n",
    "imDoGArray = itk.GetArrayFromImage(imDoG)"
   ]
  },
  {
   "cell_type": "code",
   "execution_count": 6,
   "metadata": {},
   "outputs": [
    {
     "data": {
      "text/html": [
       "<div />"
      ],
      "text/plain": [
       "<IPython.core.display.HTML object>"
      ]
     },
     "metadata": {},
     "output_type": "display_data"
    },
    {
     "data": {
      "application/javascript": [
       "window.connectPlugin && window.connectPlugin(\"3cc4e193-61f2-4ae6-bc9f-37fb44f1f922\")"
      ],
      "text/plain": [
       "<IPython.core.display.Javascript object>"
      ]
     },
     "metadata": {},
     "output_type": "display_data"
    },
    {
     "data": {
      "text/html": [
       "<div id=\"68f6b29f-1a89-4027-92cd-f6a3302c1f1e\"></div>"
      ],
      "text/plain": [
       "<IPython.core.display.HTML object>"
      ]
     },
     "metadata": {},
     "output_type": "display_data"
    },
    {
     "data": {
      "text/plain": [
       "<itkwidgets.viewer.Viewer at 0x1fe52a9ed90>"
      ]
     },
     "execution_count": 6,
     "metadata": {},
     "output_type": "execute_result"
    }
   ],
   "source": [
    "view(imDoGArray)"
   ]
  },
  {
   "cell_type": "code",
   "execution_count": 7,
   "metadata": {
    "scrolled": true
   },
   "outputs": [
    {
     "name": "stdout",
     "output_type": "stream",
     "text": [
      "[[115.  99.  53.]\n",
      " [114.  71. 116.]\n",
      " [ 91.  31.  39.]\n",
      " [ 10. 150. 247.]\n",
      " [132.  20. 154.]\n",
      " [138.  29.  41.]\n",
      " [ 10.  48. 229.]\n",
      " [119. 112. 117.]\n",
      " [149. 126. 110.]\n",
      " [ 12.  57.  38.]\n",
      " [ 69.  38.  46.]\n",
      " [172. 201.  83.]\n",
      " [144. 200.  96.]\n",
      " [217.  50.  40.]\n",
      " [178.  36.  54.]\n",
      " [ 75. 175.  40.]\n",
      " [186. 121. 100.]\n",
      " [191. 177.  66.]\n",
      " [159. 189.  42.]\n",
      " [153. 164. 103.]\n",
      " [ 89. 130. 109.]\n",
      " [ 77. 180.  16.]\n",
      " [215.  40.  97.]\n",
      " [ 10. 182. 245.]\n",
      " [108. 189. 116.]]\n"
     ]
    }
   ],
   "source": [
    "numSeeds = 25\n",
    "seedCoverage = 20\n",
    "seedCoord = np.zeros([numSeeds,3])\n",
    "for i in range(numSeeds):\n",
    "    seedCoord[i] = np.unravel_index(np.argmax(imDoGArray, axis=None), imDoGArray.shape)\n",
    "    indx = [int(seedCoord[i][0]),int(seedCoord[i][1]),int(seedCoord[i][2])]\n",
    "    minX = max(indx[0]-seedCoverage,0)\n",
    "    maxX = min(indx[0]+seedCoverage,imDoGArray.shape[0])\n",
    "    minY = max(indx[1]-seedCoverage,0)\n",
    "    maxY = min(indx[1]+seedCoverage,imDoGArray.shape[1])\n",
    "    minZ = max(indx[2]-seedCoverage,0)\n",
    "    maxZ = min(indx[2]+seedCoverage,imDoGArray.shape[2])\n",
    "    imDoGArray[minX:maxX,minY:maxY,minZ:maxZ]=im_min\n",
    "    indx.reverse()\n",
    "    seedCoord[:][i] = im.TransformIndexToPhysicalPoint(indx)\n",
    "print(seedCoord)"
   ]
  },
  {
   "cell_type": "code",
   "execution_count": 8,
   "metadata": {},
   "outputs": [
    {
     "name": "stdout",
     "output_type": "stream",
     "text": [
      "**** Processing seed 0 : [115.  99.  53.]\n",
      "**** Processing seed 1 : [114.  71. 116.]\n",
      "**** Processing seed 2 : [91. 31. 39.]\n",
      "**** Processing seed 3 : [ 10. 150. 247.]\n",
      "**** Processing seed 4 : [132.  20. 154.]\n",
      "**** Processing seed 5 : [138.  29.  41.]\n",
      "**** Processing seed 6 : [ 10.  48. 229.]\n",
      "**** Processing seed 7 : [119. 112. 117.]\n",
      "**** Processing seed 8 : [149. 126. 110.]\n",
      "**** Processing seed 9 : [12. 57. 38.]\n",
      "**** Processing seed 10 : [69. 38. 46.]\n",
      "**** Processing seed 11 : [172. 201.  83.]\n",
      "**** Processing seed 12 : [144. 200.  96.]\n",
      "**** Processing seed 13 : [217.  50.  40.]\n",
      "**** Processing seed 14 : [178.  36.  54.]\n",
      "**** Processing seed 15 : [ 75. 175.  40.]\n",
      "**** Processing seed 16 : [186. 121. 100.]\n",
      "**** Processing seed 17 : [191. 177.  66.]\n",
      "**** Processing seed 18 : [159. 189.  42.]\n",
      "**** Processing seed 19 : [153. 164. 103.]\n",
      "**** Processing seed 20 : [ 89. 130. 109.]\n",
      "**** Processing seed 21 : [ 77. 180.  16.]\n",
      "**** Processing seed 22 : [215.  40.  97.]\n",
      "**** Processing seed 23 : [ 10. 182. 245.]\n",
      "**** Processing seed 24 : [108. 189. 116.]\n"
     ]
    }
   ],
   "source": [
    "# Manually extract a few vessels to form an image-specific training set\n",
    "vSeg = tube.SegmentTubes.New(Input=im)\n",
    "vSeg.SetVerbose(True)\n",
    "vSeg.SetMinRoundness(0.1)\n",
    "vSeg.SetMinRidgeness(0.8)\n",
    "vSeg.SetMinCurvature(0.001)  # This is the most influential variable - depends on intensity range of data\n",
    "vSeg.SetRadiusInObjectSpace( 0.5 )\n",
    "vSeg.SetMinLength(300)\n",
    "for i in range(numSeeds):\n",
    "    print(\"**** Processing seed \" + str(i) + \" : \" + str(seedCoord[i]))\n",
    "    vSeg.ExtractTubeInObjectSpace( seedCoord[i], i )\n",
    "    \n",
    "tubeMaskImage = vSeg.GetTubeMaskImage()"
   ]
  },
  {
   "cell_type": "code",
   "execution_count": 9,
   "metadata": {},
   "outputs": [],
   "source": [
    "itk.imwrite(tubeMaskImage, OutputBaseName+\"-VesselsInitial.mha\")"
   ]
  },
  {
   "cell_type": "code",
   "execution_count": 10,
   "metadata": {},
   "outputs": [],
   "source": [
    "LabelMapType = itk.Image[itk.UC,3]\n",
    "\n",
    "trMask = tube.ComputeTrainingMask[ImageType,LabelMapType].New()\n",
    "trMask.SetInput( tubeMaskImage )\n",
    "trMask.SetGap( 3 )\n",
    "trMask.SetObjectWidth( 1 )\n",
    "trMask.SetNotObjectWidth( 1 )\n",
    "trMask.Update()\n",
    "fgMask = trMask.GetOutput()"
   ]
  },
  {
   "cell_type": "code",
   "execution_count": 11,
   "metadata": {},
   "outputs": [],
   "source": [
    "itk.imwrite(fgMask, OutputBaseName+\"-VesselsInitialMask.mha\")"
   ]
  },
  {
   "cell_type": "code",
   "execution_count": 12,
   "metadata": {},
   "outputs": [],
   "source": [
    "enhancer = tube.EnhanceTubesUsingDiscriminantAnalysis[ImageType,LabelMapType].New()\n",
    "enhancer.AddInput(im)\n",
    "enhancer.SetLabelMap(fgMask)\n",
    "enhancer.SetRidgeId(255)\n",
    "enhancer.SetBackgroundId(128)\n",
    "enhancer.SetUnknownId(0)\n",
    "enhancer.SetTrainClassifier(True)\n",
    "enhancer.SetUseIntensityOnly(True)\n",
    "enhancer.SetUseFeatureMath(True)\n",
    "enhancer.SetScales([0.75*spacing, 1.5*spacing, 3.0*spacing])\n",
    "enhancer.Update()\n",
    "enhancer.ClassifyImages()"
   ]
  },
  {
   "cell_type": "code",
   "execution_count": 13,
   "metadata": {},
   "outputs": [],
   "source": [
    "imMath.SetInput(enhancer.GetClassProbabilityImage(0))\n",
    "imMath.Blur(0.5*spacing)\n",
    "prob0 = imMath.GetOutput()\n",
    "imMath.SetInput(enhancer.GetClassProbabilityImage(1))\n",
    "imMath.Blur(0.5*spacing)\n",
    "prob1 = imMath.GetOutput()"
   ]
  },
  {
   "cell_type": "code",
   "execution_count": 14,
   "metadata": {},
   "outputs": [],
   "source": [
    "itk.imwrite(prob0, OutputBaseName+\"-Prob0.mha\")\n",
    "itk.imwrite(prob1, OutputBaseName+\"-Prob1.mha\")"
   ]
  },
  {
   "cell_type": "code",
   "execution_count": 15,
   "metadata": {},
   "outputs": [],
   "source": [
    "imDiff = itk.SubtractImageFilter(Input1=prob0, Input2=prob1)\n",
    "imDiffArr = itk.GetArrayFromImage(imDiff)\n",
    "dMax = imDiffArr.max()\n",
    "imProbArr = imDiffArr / dMax\n",
    "imVess = itk.GetImageFromArray(imProbArr)\n",
    "imVess.CopyInformation(im)"
   ]
  },
  {
   "cell_type": "code",
   "execution_count": 16,
   "metadata": {},
   "outputs": [],
   "source": [
    "itk.imwrite( imVess, OutputBaseName+\"-VesselsEnhanced.mha\", compression=True)"
   ]
  },
  {
   "cell_type": "code",
   "execution_count": null,
   "metadata": {},
   "outputs": [],
   "source": [
    "imMath = tube.ImageMath.New(imVess)\n",
    "imMath.MedianFilter(1)\n",
    "imMath.Threshold(0.000001, 1, 1, 0)\n",
    "imVessMask = imMath.GetOutputShort()\n",
    "\n",
    "ccSeg = tube.SegmentConnectedComponents.New(imVessMask)\n",
    "ccSeg.SetMinimumVolume(100)\n",
    "ccSeg.Update()\n",
    "imVessMask = ccSeg.GetOutput()\n",
    "\n",
    "itk.imwrite(imVessMask,OutputBaseName+\"-VesselSeedsInitialMask.mha\")\n",
    "imVessMask = itk.imread(OutputBaseName+\"-VesselSeedsInitialMask.mha\", itk.F)"
   ]
  },
  {
   "cell_type": "code",
   "execution_count": null,
   "metadata": {},
   "outputs": [],
   "source": [
    "imMath.SetInput(imVess)\n",
    "imMath.ReplaceValuesOutsideMaskRange(imVessMask,2,99999,0)\n",
    "imSeeds = imMath.GetOutput()\n",
    "itk.imwrite(imSeeds,OutputBaseName+\"-VesselSeeds.mha\")"
   ]
  },
  {
   "cell_type": "code",
   "execution_count": null,
   "metadata": {},
   "outputs": [],
   "source": [
    "imMath.SetInput(imVessMask)\n",
    "imMath.Threshold(0,1,1,0)\n",
    "imVessMaskInv = imMath.GetOutput()\n",
    "\n",
    "distFilter = itk.DanielssonDistanceMapImageFilter.New(imVessMaskInv)\n",
    "distFilter.Update()\n",
    "dist = distFilter.GetOutput()\n",
    "\n",
    "imMath.SetInput(dist)\n",
    "imMath.Blur(0.4)\n",
    "tmp = imMath.GetOutput()\n",
    "imMath.ReplaceValuesOutsideMaskRange(tmp, 0.1, 10, 0)\n",
    "imSeedsRadius = imMath.GetOutput()\n",
    "\n",
    "itk.imwrite(imSeedsRadius, OutputBaseName+\"-VesselSeedsRadius.mha\")"
   ]
  },
  {
   "cell_type": "code",
   "execution_count": null,
   "metadata": {},
   "outputs": [],
   "source": [
    "imMath.SetInput(im)\n",
    "imMath.ReplaceValuesOutsideMaskRange(imVessMask, 2, 99999, 0)\n",
    "imMath.Blur(spacing)\n",
    "imInput = imMath.GetOutput()\n",
    "\n",
    "itk.imwrite(imInput,OutputBaseName+\"-VesselInput.mha\")"
   ]
  },
  {
   "cell_type": "code",
   "execution_count": 36,
   "metadata": {},
   "outputs": [],
   "source": [
    "numSeeds = 500\n",
    "\n",
    "vSeg = tube.SegmentTubes.New(Input=imInput)\n",
    "#vSeg.SetVerbose(True)\n",
    "vSeg.SetMinCurvature(0.000001)\n",
    "vSeg.SetMinRoundness(0.1)\n",
    "vSeg.SetMinRidgeness(0.75)\n",
    "vSeg.SetMinLevelness(0.001)\n",
    "vSeg.SetRadiusInObjectSpace( spacing )\n",
    "vSeg.SetBorderInIndexSpace(3)\n",
    "vSeg.SetSeedMask( imSeeds )\n",
    "vSeg.SetSeedRadiusMask( imSeedsRadius )\n",
    "vSeg.SetOptimizeRadius(True)\n",
    "vSeg.SetSeedMaskMaximumNumberOfPoints(numSeeds)\n",
    "vSeg.SetUseSeedMaskAsProbabilities(True)\n",
    "vSeg.SetSeedExtractionMinimumProbability(0.5)\n",
    "vSeg.ProcessSeeds()"
   ]
  },
  {
   "cell_type": "code",
   "execution_count": 37,
   "metadata": {},
   "outputs": [],
   "source": [
    "tubeMaskImage = vSeg.GetTubeMaskImage()\n",
    "itk.imwrite(tubeMaskImage,OutputBaseName+\"-Vessels\"+str(numSeeds)+\".mha\")"
   ]
  },
  {
   "cell_type": "code",
   "execution_count": 38,
   "metadata": {},
   "outputs": [],
   "source": [
    "SOWriter = itk.SpatialObjectWriter[3].New()\n",
    "SOWriter.SetInput(vSeg.GetTubeGroup())\n",
    "SOWriter.SetBinaryPoints(True)\n",
    "SOWriter.SetFileName(OutputBaseName+\"-Vessels\"+str(numSeeds)+\".tre\")\n",
    "SOWriter.Update()"
   ]
  },
  {
   "cell_type": "code",
   "execution_count": 39,
   "metadata": {},
   "outputs": [],
   "source": [
    "# smooth tubes!\n",
    "TubeMath = tube.TubeMath[3, itk.F].New()\n",
    "TubeMath.SetInputTubeGroup(vSeg.GetTubeGroup())\n",
    "TubeMath.SetUseAllTubes()\n",
    "TubeMath.SmoothTube(4,\"SMOOTH_TUBE_USING_INDEX_GAUSSIAN\")\n",
    "TubeMath.SmoothTubeProperty(\"Radius\",2,\"SMOOTH_TUBE_USING_INDEX_GAUSSIAN\")\n",
    "tubes = TubeMath.GetOutputTubeGroup()"
   ]
  },
  {
   "cell_type": "code",
   "execution_count": 40,
   "metadata": {},
   "outputs": [],
   "source": [
    "ConvSurface = tube.WriteTubesAsPolyData.New()\n",
    "ConvSurface.SetInput(tubes)\n",
    "ConvSurface.SetFileName(OutputBaseName+\"-Vessels\"+str(numSeeds)+\".vtp\")\n",
    "ConvSurface.Update()"
   ]
  },
  {
   "cell_type": "code",
   "execution_count": null,
   "metadata": {},
   "outputs": [],
   "source": []
  }
 ],
 "metadata": {
  "kernelspec": {
   "display_name": "Python 3 (ipykernel)",
   "language": "python",
   "name": "python3"
  },
  "language_info": {
   "codemirror_mode": {
    "name": "ipython",
    "version": 3
   },
   "file_extension": ".py",
   "mimetype": "text/x-python",
   "name": "python",
   "nbconvert_exporter": "python",
   "pygments_lexer": "ipython3",
   "version": "3.8.10"
  },
  "widgets": {
   "application/vnd.jupyter.widget-state+json": {
    "state": {},
    "version_major": 2,
    "version_minor": 0
   }
  }
 },
 "nbformat": 4,
 "nbformat_minor": 4
}
