{
 "cells": [
  {
   "cell_type": "code",
   "execution_count": 1,
   "id": "d1a11118-98a5-44e4-a4d4-4eab1ffd0033",
   "metadata": {
    "tags": []
   },
   "outputs": [],
   "source": [
    "import site\n",
    "site.addsitedir(\"../src\")\n",
    "from usangio_vessels import usangio_vessels"
   ]
  },
  {
   "cell_type": "code",
   "execution_count": 2,
   "id": "2a629739-bb06-4dcd-baf3-27d5aacf9f93",
   "metadata": {
    "tags": []
   },
   "outputs": [
    {
     "name": "stdout",
     "output_type": "stream",
     "text": [
      "Reading image\n",
      "Normalizing image\n",
      "Identifying training seeds\n",
      "Generating training mask\n",
      "   - Extracting training vessels\n",
      "     Seed 0 of 25\n",
      "     Seed 1 of 25\n",
      "     Seed 2 of 25\n",
      "     Seed 3 of 25\n",
      "     Seed 4 of 25\n",
      "     Seed 5 of 25\n",
      "     Seed 6 of 25\n",
      "     Seed 7 of 25\n",
      "     Seed 8 of 25\n",
      "     Seed 9 of 25\n",
      "     Seed 10 of 25\n",
      "     Seed 11 of 25\n",
      "     Seed 12 of 25\n",
      "     Seed 13 of 25\n",
      "     Seed 14 of 25\n",
      "     Seed 15 of 25\n",
      "     Seed 16 of 25\n",
      "     Seed 17 of 25\n",
      "     Seed 18 of 25\n",
      "     Seed 19 of 25\n",
      "     Seed 20 of 25\n",
      "     Seed 21 of 25\n",
      "     Seed 22 of 25\n",
      "     Seed 23 of 25\n",
      "     Seed 24 of 25\n",
      "   - Computing training mask (This takes several minutes)\n",
      "Enhancing vessels (This takes several minutes)\n",
      "Extract vessels (This takes several minutes)\n",
      "   - Extracting seed info\n",
      "   - Extracting vessels\n",
      "   - Saving results\n"
     ]
    }
   ],
   "source": [
    "vess = usangio_vessels()\n",
    "vess.read_image_file(\"../Data/Rat17N_w2.nrrd\")\n",
    "vess.run(level_of_detail=0)"
   ]
  },
  {
   "cell_type": "code",
   "execution_count": 3,
   "id": "9b9702cb-2778-446a-96fd-3f8e6acc3977",
   "metadata": {
    "tags": []
   },
   "outputs": [
    {
     "name": "stdout",
     "output_type": "stream",
     "text": [
      "Extract vessels (This takes several minutes)\n",
      "   - Extracting seed info\n",
      "   - Extracting vessels\n",
      "   - Saving results\n"
     ]
    }
   ],
   "source": [
    "vess.extract_vessels(level_of_detail=1)"
   ]
  },
  {
   "cell_type": "code",
   "execution_count": 4,
   "id": "bc0060fd-f469-4002-aa46-1410c8c4645a",
   "metadata": {
    "tags": []
   },
   "outputs": [
    {
     "name": "stdout",
     "output_type": "stream",
     "text": [
      "Extract vessels (This takes several minutes)\n",
      "   - Extracting seed info\n",
      "   - Extracting vessels\n",
      "   - Saving results\n"
     ]
    }
   ],
   "source": [
    "vess.extract_vessels(level_of_detail=2)"
   ]
  },
  {
   "cell_type": "code",
   "execution_count": null,
   "id": "f44d1dc1-4a57-4db7-b653-3570b0b7f02b",
   "metadata": {
    "tags": []
   },
   "outputs": [
    {
     "name": "stdout",
     "output_type": "stream",
     "text": [
      "Reading image\n",
      "Normalizing image\n",
      "Identifying training seeds\n",
      "Generating training mask\n",
      "   - Extracting training vessels\n",
      "     Seed 0 of 25\n",
      "     Seed 1 of 25\n",
      "     Seed 2 of 25\n",
      "     Seed 3 of 25\n",
      "     Seed 4 of 25\n",
      "     Seed 5 of 25\n",
      "     Seed 6 of 25\n",
      "     Seed 7 of 25\n",
      "     Seed 8 of 25\n",
      "     Seed 9 of 25\n",
      "     Seed 10 of 25\n",
      "     Seed 11 of 25\n",
      "     Seed 12 of 25\n",
      "     Seed 13 of 25\n",
      "     Seed 14 of 25\n",
      "     Seed 15 of 25\n",
      "     Seed 16 of 25\n",
      "     Seed 17 of 25\n",
      "     Seed 18 of 25\n",
      "     Seed 19 of 25\n",
      "     Seed 20 of 25\n",
      "     Seed 21 of 25\n",
      "     Seed 22 of 25\n",
      "     Seed 23 of 25\n",
      "     Seed 24 of 25\n",
      "   - Computing training mask (This takes several minutes)\n",
      "Enhancing vessels (This takes several minutes)\n"
     ]
    }
   ],
   "source": [
    "vess = usangio_vessels()\n",
    "vess.read_image_file(\"../Data/Rat19N_w3.nrrd\")\n",
    "vess.run(level_of_detail=0)"
   ]
  },
  {
   "cell_type": "code",
   "execution_count": null,
   "id": "436f8f04-158e-4ced-959d-19b31a957f5b",
   "metadata": {
    "tags": []
   },
   "outputs": [],
   "source": [
    "vess.extract_vessels(level_of_detail=1)"
   ]
  },
  {
   "cell_type": "code",
   "execution_count": null,
   "id": "d2889943-9ed2-4dd7-962b-2846ac681884",
   "metadata": {
    "tags": []
   },
   "outputs": [],
   "source": [
    "vess.extract_vessels(level_of_detail=2)"
   ]
  },
  {
   "cell_type": "code",
   "execution_count": null,
   "id": "3c83935e-3376-4519-a1e1-5e8960942f81",
   "metadata": {
    "tags": []
   },
   "outputs": [],
   "source": [
    "vess = usangio_vessels()\n",
    "vess.read_image_file(\"../Data/Rat44L_w2.nrrd\")\n",
    "vess.run(level_of_detail=0)"
   ]
  },
  {
   "cell_type": "code",
   "execution_count": null,
   "id": "f264ec28-b77d-4089-a5cd-35d4bd8a5771",
   "metadata": {
    "tags": []
   },
   "outputs": [],
   "source": [
    "vess.extract_vessels(level_of_detail=1)"
   ]
  },
  {
   "cell_type": "code",
   "execution_count": null,
   "id": "dba7d72b-9ce1-455a-90f3-9953e661f743",
   "metadata": {
    "tags": []
   },
   "outputs": [],
   "source": [
    "vess.extract_vessels(level_of_detail=2)"
   ]
  },
  {
   "cell_type": "code",
   "execution_count": null,
   "id": "9583debe-26e6-4d13-9370-d5cd94332fa7",
   "metadata": {},
   "outputs": [],
   "source": [
    "vess = usangio_vessels()\n",
    "vess.read_image_file(\"../Data/Rat47R_w2.nrrd\")\n",
    "vess.run(level_of_detail=0)"
   ]
  },
  {
   "cell_type": "code",
   "execution_count": null,
   "id": "8835101a-4dd5-4938-8263-2805c8ed3223",
   "metadata": {
    "tags": []
   },
   "outputs": [],
   "source": [
    "vess.extract_vessels(level_of_detail=1)"
   ]
  },
  {
   "cell_type": "code",
   "execution_count": null,
   "id": "0d451f5d-4fa1-4f42-8611-316e643d8947",
   "metadata": {
    "tags": []
   },
   "outputs": [],
   "source": [
    "vess.extract_vessels(level_of_detail=2)"
   ]
  },
  {
   "cell_type": "code",
   "execution_count": null,
   "id": "0ac66a7b-7186-41ef-9792-e2744585f274",
   "metadata": {},
   "outputs": [],
   "source": []
  }
 ],
 "metadata": {
  "kernelspec": {
   "display_name": "Python 3 (ipykernel)",
   "language": "python",
   "name": "python3"
  },
  "language_info": {
   "codemirror_mode": {
    "name": "ipython",
    "version": 3
   },
   "file_extension": ".py",
   "mimetype": "text/x-python",
   "name": "python",
   "nbconvert_exporter": "python",
   "pygments_lexer": "ipython3",
   "version": "3.11.5"
  }
 },
 "nbformat": 4,
 "nbformat_minor": 5
}
