{
 "cells": [
  {
   "cell_type": "code",
   "execution_count": 1,
   "id": "d1a11118-98a5-44e4-a4d4-4eab1ffd0033",
   "metadata": {
    "tags": []
   },
   "outputs": [],
   "source": [
    "import site\n",
    "site.addsitedir(\"../src\")\n",
    "from usangio_vessels import usangio_vessels"
   ]
  },
  {
   "cell_type": "code",
   "execution_count": 2,
   "id": "2a629739-bb06-4dcd-baf3-27d5aacf9f93",
   "metadata": {
    "tags": []
   },
   "outputs": [
    {
     "name": "stdout",
     "output_type": "stream",
     "text": [
      "Reading image\n",
      "Normalizing image\n"
     ]
    },
    {
     "ename": "ImportError",
     "evalue": "DLL load failed while importing _TubeTKPython: The specified module could not be found.",
     "output_type": "error",
     "traceback": [
      "\u001b[1;31m---------------------------------------------------------------------------\u001b[0m",
      "\u001b[1;31mImportError\u001b[0m                               Traceback (most recent call last)",
      "Cell \u001b[1;32mIn[2], line 3\u001b[0m\n\u001b[0;32m      1\u001b[0m vess \u001b[38;5;241m=\u001b[39m usangio_vessels()\n\u001b[0;32m      2\u001b[0m vess\u001b[38;5;241m.\u001b[39mread_image_file(\u001b[38;5;124m\"\u001b[39m\u001b[38;5;124m../Data/Rat19N_w3.nrrd\u001b[39m\u001b[38;5;124m\"\u001b[39m)\n\u001b[1;32m----> 3\u001b[0m \u001b[43mvess\u001b[49m\u001b[38;5;241;43m.\u001b[39;49m\u001b[43mrun\u001b[49m\u001b[43m(\u001b[49m\u001b[43m)\u001b[49m\n",
      "File \u001b[1;32mC:\\src\\Proj_UNC_TumorMicroEnv\\UNC_TumorMicroEnv_Vessels\\src\\usangio_vessels.py:294\u001b[0m, in \u001b[0;36musangio_vessels.run\u001b[1;34m(self)\u001b[0m\n\u001b[0;32m    293\u001b[0m \u001b[38;5;28;01mdef\u001b[39;00m \u001b[38;5;21mrun\u001b[39m(\u001b[38;5;28mself\u001b[39m):\n\u001b[1;32m--> 294\u001b[0m     \u001b[38;5;28;43mself\u001b[39;49m\u001b[38;5;241;43m.\u001b[39;49m\u001b[43mnormalize_image\u001b[49m\u001b[43m(\u001b[49m\u001b[43m)\u001b[49m\n\u001b[0;32m    295\u001b[0m     \u001b[38;5;28mself\u001b[39m\u001b[38;5;241m.\u001b[39midentify_training_seeds()\n\u001b[0;32m    296\u001b[0m     \u001b[38;5;28mself\u001b[39m\u001b[38;5;241m.\u001b[39mgenerate_training_mask_image()\n",
      "File \u001b[1;32mC:\\src\\Proj_UNC_TumorMicroEnv\\UNC_TumorMicroEnv_Vessels\\src\\usangio_vessels.py:88\u001b[0m, in \u001b[0;36musangio_vessels.normalize_image\u001b[1;34m(self)\u001b[0m\n\u001b[0;32m     85\u001b[0m \u001b[38;5;28;01mdef\u001b[39;00m \u001b[38;5;21mnormalize_image\u001b[39m(\u001b[38;5;28mself\u001b[39m):\n\u001b[0;32m     86\u001b[0m     \u001b[38;5;28mprint\u001b[39m(\u001b[38;5;124m\"\u001b[39m\u001b[38;5;124mNormalizing image\u001b[39m\u001b[38;5;124m\"\u001b[39m)\n\u001b[1;32m---> 88\u001b[0m     imMath \u001b[38;5;241m=\u001b[39m \u001b[43mtube\u001b[49m\u001b[38;5;241;43m.\u001b[39;49m\u001b[43mImageMath\u001b[49m\u001b[38;5;241m.\u001b[39mNew(\u001b[38;5;28mself\u001b[39m\u001b[38;5;241m.\u001b[39mdata_im)\n\u001b[0;32m     89\u001b[0m     imMath\u001b[38;5;241m.\u001b[39mBlur(\u001b[38;5;28mself\u001b[39m\u001b[38;5;241m.\u001b[39mnorm_blur)\n\u001b[0;32m     90\u001b[0m     imBlur \u001b[38;5;241m=\u001b[39m imMath\u001b[38;5;241m.\u001b[39mGetOutput()\n",
      "File \u001b[1;32mC:\\src\\ITK-Release\\Wrapping\\Generators\\Python\\itk\\support\\lazy.py:138\u001b[0m, in \u001b[0;36mLazyITKModule.__getattribute__\u001b[1;34m(self, attr)\u001b[0m\n\u001b[0;32m    136\u001b[0m module \u001b[38;5;241m=\u001b[39m \u001b[38;5;28mself\u001b[39m\u001b[38;5;241m.\u001b[39m__belong_lazy_attributes[attr]\n\u001b[0;32m    137\u001b[0m namespace \u001b[38;5;241m=\u001b[39m {}\n\u001b[1;32m--> 138\u001b[0m \u001b[43mbase\u001b[49m\u001b[38;5;241;43m.\u001b[39;49m\u001b[43mitk_load_swig_module\u001b[49m\u001b[43m(\u001b[49m\u001b[43mmodule\u001b[49m\u001b[43m,\u001b[49m\u001b[43m \u001b[49m\u001b[43mnamespace\u001b[49m\u001b[43m)\u001b[49m\n\u001b[0;32m    139\u001b[0m \u001b[38;5;28mself\u001b[39m\u001b[38;5;241m.\u001b[39mloaded_lazy_modules\u001b[38;5;241m.\u001b[39madd(module)\n\u001b[0;32m    140\u001b[0m \u001b[38;5;28;01mfor\u001b[39;00m k, v \u001b[38;5;129;01min\u001b[39;00m namespace\u001b[38;5;241m.\u001b[39mitems():\n",
      "File \u001b[1;32mC:\\src\\ITK-Release\\Wrapping\\Generators\\Python\\itk\\support\\base.py:130\u001b[0m, in \u001b[0;36mitk_load_swig_module\u001b[1;34m(name, namespace)\u001b[0m\n\u001b[0;32m    127\u001b[0m \u001b[38;5;66;03m# SWIG-generated modules have 'Python' appended. Only load the SWIG module\u001b[39;00m\n\u001b[0;32m    128\u001b[0m \u001b[38;5;66;03m# if we haven't already.\u001b[39;00m\n\u001b[0;32m    129\u001b[0m loader \u001b[38;5;241m=\u001b[39m LibraryLoader()\n\u001b[1;32m--> 130\u001b[0m l_module \u001b[38;5;241m=\u001b[39m \u001b[43mloader\u001b[49m\u001b[38;5;241;43m.\u001b[39;49m\u001b[43mload\u001b[49m\u001b[43m(\u001b[49m\u001b[43mswig_module_name\u001b[49m\u001b[43m)\u001b[49m\n\u001b[0;32m    132\u001b[0m \u001b[38;5;66;03m# OK, now the modules on which this one depends are loaded and\u001b[39;00m\n\u001b[0;32m    133\u001b[0m \u001b[38;5;66;03m# template_feature-instantiated, and the SWIG module for this one is also loaded.\u001b[39;00m\n\u001b[0;32m    134\u001b[0m \u001b[38;5;66;03m# We're going to put the things we load and create in two places: the\u001b[39;00m\n\u001b[1;32m   (...)\u001b[0m\n\u001b[0;32m    140\u001b[0m \u001b[38;5;66;03m# stomp on an existing 'swig' namespace, nor do we want to share 'swig'\u001b[39;00m\n\u001b[0;32m    141\u001b[0m \u001b[38;5;66;03m# namespaces between this_module and namespace.\u001b[39;00m\n\u001b[0;32m    143\u001b[0m \u001b[38;5;28;01mif\u001b[39;00m namespace \u001b[38;5;129;01mis\u001b[39;00m \u001b[38;5;28;01mNone\u001b[39;00m:\n",
      "File \u001b[1;32mC:\\src\\ITK-Release\\Wrapping\\Generators\\Python\\itk\\support\\base.py:289\u001b[0m, in \u001b[0;36mLibraryLoader.load\u001b[1;34m(self, name)\u001b[0m\n\u001b[0;32m    287\u001b[0m     \u001b[38;5;66;03m# since version 3.4: Use importlib.util.find_spec() instead.\u001b[39;00m\n\u001b[0;32m    288\u001b[0m     l_spec \u001b[38;5;241m=\u001b[39m importlib\u001b[38;5;241m.\u001b[39mutil\u001b[38;5;241m.\u001b[39mfind_spec(name)\n\u001b[1;32m--> 289\u001b[0m     \u001b[43ml_spec\u001b[49m\u001b[38;5;241;43m.\u001b[39;49m\u001b[43mloader\u001b[49m\u001b[38;5;241;43m.\u001b[39;49m\u001b[43mexec_module\u001b[49m\u001b[43m(\u001b[49m\u001b[43ml_module\u001b[49m\u001b[43m)\u001b[49m  \u001b[38;5;66;03m# pytype: disable=attribute-error\u001b[39;00m\n\u001b[0;32m    290\u001b[0m     \u001b[38;5;28;01mreturn\u001b[39;00m l_module\n\u001b[0;32m    291\u001b[0m \u001b[38;5;28;01mfinally\u001b[39;00m:\n",
      "File \u001b[1;32m<frozen importlib._bootstrap_external>:940\u001b[0m, in \u001b[0;36mexec_module\u001b[1;34m(self, module)\u001b[0m\n",
      "File \u001b[1;32m<frozen importlib._bootstrap>:241\u001b[0m, in \u001b[0;36m_call_with_frames_removed\u001b[1;34m(f, *args, **kwds)\u001b[0m\n",
      "File \u001b[1;32mC:\\src\\ITK-Release\\Wrapping\\Generators\\Python\\itk\\support\\..\\TubeTKPython.py:13\u001b[0m\n\u001b[0;32m     11\u001b[0m \u001b[38;5;66;03m# Import the low-level C/C++ module\u001b[39;00m\n\u001b[0;32m     12\u001b[0m \u001b[38;5;28;01mif\u001b[39;00m __package__ \u001b[38;5;129;01mor\u001b[39;00m \u001b[38;5;124m\"\u001b[39m\u001b[38;5;124m.\u001b[39m\u001b[38;5;124m\"\u001b[39m \u001b[38;5;129;01min\u001b[39;00m \u001b[38;5;18m__name__\u001b[39m:\n\u001b[1;32m---> 13\u001b[0m     \u001b[38;5;28;01mfrom\u001b[39;00m \u001b[38;5;21;01m.\u001b[39;00m \u001b[38;5;28;01mimport\u001b[39;00m _TubeTKPython\n\u001b[0;32m     14\u001b[0m \u001b[38;5;28;01melse\u001b[39;00m:\n\u001b[0;32m     15\u001b[0m     \u001b[38;5;28;01mimport\u001b[39;00m \u001b[38;5;21;01m_TubeTKPython\u001b[39;00m\n",
      "\u001b[1;31mImportError\u001b[0m: DLL load failed while importing _TubeTKPython: The specified module could not be found."
     ]
    }
   ],
   "source": [
    "vess = usangio_vessels()\n",
    "vess.read_image_file(\"../Data/Rat19N_w3.nrrd\")\n",
    "vess.run()"
   ]
  },
  {
   "cell_type": "code",
   "execution_count": null,
   "id": "3c83935e-3376-4519-a1e1-5e8960942f81",
   "metadata": {
    "tags": []
   },
   "outputs": [],
   "source": [
    "vess = usangio_vessels()\n",
    "vess.read_image_file(\"../Data/Rat17N_w2.nrrd\")\n",
    "vess.run()\n"
   ]
  },
  {
   "cell_type": "code",
   "execution_count": null,
   "id": "9583debe-26e6-4d13-9370-d5cd94332fa7",
   "metadata": {},
   "outputs": [],
   "source": []
  }
 ],
 "metadata": {
  "kernelspec": {
   "display_name": "Python 3 (ipykernel)",
   "language": "python",
   "name": "python3"
  },
  "language_info": {
   "codemirror_mode": {
    "name": "ipython",
    "version": 3
   },
   "file_extension": ".py",
   "mimetype": "text/x-python",
   "name": "python",
   "nbconvert_exporter": "python",
   "pygments_lexer": "ipython3",
   "version": "3.11.5"
  }
 },
 "nbformat": 4,
 "nbformat_minor": 5
}
